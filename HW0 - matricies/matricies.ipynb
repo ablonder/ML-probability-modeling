{
 "cells": [
  {
   "cell_type": "markdown",
   "metadata": {},
   "source": [
    "# STAT 339: HOMEWORK 0 (CODING AND MATRIX ALGEBRA WARMUP)\n",
    "Aviva Blonder\n",
    "\n",
    "Monday, February 6th, 2017"
   ]
  },
  {
   "cell_type": "code",
   "execution_count": 20,
   "metadata": {
    "collapsed": false
   },
   "outputs": [],
   "source": [
    "# make plots show up under the code that produced them instead of in a separate window\n",
    "%matplotlib inline\n",
    "# All of the packages needed to run the code below\n",
    "import matplotlib.pyplot as plt\n",
    "import numpy as np\n",
    "import random"
   ]
  },
  {
   "cell_type": "markdown",
   "metadata": {},
   "source": [
    "## 1. Creating some simple plots.\n",
    "\n",
    "### a) Produce a plot of the floor function."
   ]
  },
  {
   "cell_type": "code",
   "execution_count": 21,
   "metadata": {
    "collapsed": false
   },
   "outputs": [
    {
     "data": {
      "image/png": "[encoded data removed]",
      "text/plain": [
       "<matplotlib.figure.Figure at 0x7f4a832bb128>"
      ]
     },
     "metadata": {},
     "output_type": "display_data"
    }
   ],
   "source": [
    "# create the domain (from 0 to 10)\n",
    "xvals = np.arange(0.0, 10.0, .01)\n",
    "# and plot the floor function\n",
    "plt.plot(xvals, np.floor(xvals))\n",
    "# don't forget the labels\n",
    "plt.xlabel(\"x\")\n",
    "plt.ylabel(\"floor of x\")\n",
    "plt.show()"
   ]
  },
  {
   "cell_type": "markdown",
   "metadata": {},
   "source": [
    "### b) Plot 3 different lines on the same plot."
   ]
  },
  {
   "cell_type": "code",
   "execution_count": 22,
   "metadata": {
    "collapsed": false
   },
   "outputs": [
    {
     "data": {
      "image/png": "[encoded data removed]",
      "text/plain": [
       "<matplotlib.figure.Figure at 0x7f4a8329e908>"
      ]
     },
     "metadata": {},
     "output_type": "display_data"
    }
   ],
   "source": [
    "# I'm going to keep using xvals for the domain, so all I have to do here is create the plot\n",
    "plt.plot(xvals, xvals*2 - 5, 'r', xvals, xvals/2 + 1, 'b', xvals, (10-xvals)/3, 'g')\n",
    "# add some axis labels\n",
    "plt.xlabel(\"x\")\n",
    "plt.ylabel(\"f(x)\")\n",
    "# and a legend\n",
    "plt.legend([\"2x - 5\", \"x/2 + 1\", \"(10-x)/3\"])\n",
    "plt.show()"
   ]
  },
  {
   "cell_type": "markdown",
   "metadata": {},
   "source": [
    "### c) Plot the unit circle."
   ]
  },
  {
   "cell_type": "code",
   "execution_count": 23,
   "metadata": {
    "collapsed": false
   },
   "outputs": [
    {
     "data": {
      "image/png": "[encoded data removed]",
      "text/plain": [
       "<matplotlib.figure.Figure at 0x7f4a8323a0f0>"
      ]
     },
     "metadata": {},
     "output_type": "display_data"
    }
   ],
   "source": [
    "# set the domain from -1 to 1\n",
    "x = np.arange(-1.0, 1.0, .01)\n",
    "# plot a circle based on the function 1 = x**2 + y**2\n",
    "y = np.sqrt(1-x**2)\n",
    "# for some reason, np.sqrt can't handle values of 0, so I'm going to add the last value corresponding to 1 by hand\n",
    "y = np.append(y, 0)\n",
    "x = np.append(x, 1)\n",
    "# I have to plot the negative and positive halves separately\n",
    "plt.plot(x, y, 'b', x, -y, 'b')\n",
    "# make the dimensions equal so it looks like a circle, not an oval\n",
    "plt.axis('equal')\n",
    "plt.show()"
   ]
  },
  {
   "cell_type": "markdown",
   "metadata": {},
   "source": [
    "## 2. Matrix manipulation and loops.\n",
    "\n",
    "### a) Load data into a matrix."
   ]
  },
  {
   "cell_type": "code",
   "execution_count": 24,
   "metadata": {
    "collapsed": true
   },
   "outputs": [],
   "source": [
    "# loads the data from a file in the same directory and turns it into a numpy matrix\n",
    "A = np.loadtxt(\"big_matrix.txt\")"
   ]
  },
  {
   "cell_type": "markdown",
   "metadata": {},
   "source": [
    "### b) Get and store the number of rows and columns in the matrix."
   ]
  },
  {
   "cell_type": "code",
   "execution_count": 25,
   "metadata": {
    "collapsed": true
   },
   "outputs": [],
   "source": [
    "# numpy's shape function returns a list of the number of rows/columns in each dimension\n",
    "s = A.shape\n",
    "# first get the number of rows\n",
    "R = s[0]\n",
    "# then the number of columns\n",
    "C = s[1]"
   ]
  },
  {
   "cell_type": "markdown",
   "metadata": {},
   "source": [
    "### c) Normalize each value in the matrix so that it is between 0 and 1."
   ]
  },
  {
   "cell_type": "code",
   "execution_count": 26,
   "metadata": {
    "collapsed": true
   },
   "outputs": [],
   "source": [
    "# divide every entry by the largest value in the matrix\n",
    "A /= A.max()"
   ]
  },
  {
   "cell_type": "markdown",
   "metadata": {},
   "source": [
    "### d) Apply a nonlinear transformation to the values in the matrix to stretch the values near 0 and compress them near 1.\n",
    "Then visualize the matrix as a grayscale image where 0 is black and 1 is white."
   ]
  },
  {
   "cell_type": "code",
   "execution_count": 27,
   "metadata": {
    "collapsed": false
   },
   "outputs": [
    {
     "data": {
      "image/png": "[encoded data removed]",
      "text/plain": [
       "<matplotlib.figure.Figure at 0x7f4a83a669e8>"
      ]
     },
     "metadata": {},
     "output_type": "display_data"
    }
   ],
   "source": [
    "# applying a nonlinear transformation\n",
    "A = A**(1/8)\n",
    "\n",
    "# visualizing the image in grayscale\n",
    "plt.imshow(A, cmap = 'gray')\n",
    "# with a legend\n",
    "plt.colorbar()\n",
    "plt.show()"
   ]
  },
  {
   "cell_type": "markdown",
   "metadata": {
    "collapsed": true
   },
   "source": [
    "### e) Replace every 5th entry in every 5th row of a copy of the matrix with 0 and visualize it."
   ]
  },
  {
   "cell_type": "code",
   "execution_count": 28,
   "metadata": {
    "collapsed": false
   },
   "outputs": [
    {
     "data": {
      "image/png": "[encoded data removed]",
      "text/plain": [
       "<matplotlib.figure.Figure at 0x7f4a83a834e0>"
      ]
     },
     "metadata": {},
     "output_type": "display_data"
    }
   ],
   "source": [
    "# create a copy of A\n",
    "B = np.copy(A)\n",
    "\n",
    "# loop through every 5th row\n",
    "for row in range(0, R, 5):\n",
    "    # loop through every 5th item\n",
    "    for col in range(0, C, 5):\n",
    "        # replace it with 0\n",
    "        B[row, col] = 0\n",
    "\n",
    "# visualizing\n",
    "plt.imshow(B, cmap = 'gray')\n",
    "plt.colorbar()\n",
    "plt.show()"
   ]
  },
  {
   "cell_type": "markdown",
   "metadata": {},
   "source": [
    "### f) Replace every 5th entry in every 5th row of the matrix with a 1."
   ]
  },
  {
   "cell_type": "code",
   "execution_count": 29,
   "metadata": {
    "collapsed": false
   },
   "outputs": [],
   "source": [
    "# using an index expression this time\n",
    "B[0:R:5, 0:C:5] = 1"
   ]
  },
  {
   "cell_type": "markdown",
   "metadata": {},
   "source": [
    "### g) Save the modified matrix to a file."
   ]
  },
  {
   "cell_type": "code",
   "execution_count": 39,
   "metadata": {
    "collapsed": false
   },
   "outputs": [],
   "source": [
    "np.savetxt(\"new_matrix.txt\", B)"
   ]
  },
  {
   "cell_type": "markdown",
   "metadata": {},
   "source": [
    "## 4. Creating a function.\n",
    "\n",
    "Define a function that can do everything in part 2 above to any user provided matrix with a little more flexibility."
   ]
  },
  {
   "cell_type": "code",
   "execution_count": 31,
   "metadata": {
    "collapsed": false
   },
   "outputs": [],
   "source": [
    "def matlattice(file, newfile, step):\n",
    "    \"\"\"Loads a matrix from a file, sets every nth value to 1 according to step,\n",
    "    prints out a visualization of the matrix, and saves it to a new file\"\"\"\n",
    "    \n",
    "    # load the user provided file\n",
    "    A = np.loadtxt(file)\n",
    "    # calculate the number of rows and columns\n",
    "    s = A.shape\n",
    "    R = s[0]\n",
    "    C = s[1]\n",
    "    # create the lattice according to the user provided step\n",
    "    A[0:R:step, 0:C:step] = 1\n",
    "    # visualize the matrix with the lattice\n",
    "    plt.imshow(A, cmap = 'gray')\n",
    "    plt.colorbar()\n",
    "    plt.show()\n",
    "    # save the new matrix as a new file with the user provided name\n",
    "    np.savetxt(newfile, A)"
   ]
  },
  {
   "cell_type": "markdown",
   "metadata": {},
   "source": [
    "## 5. Random numbers and counting."
   ]
  },
  {
   "cell_type": "markdown",
   "metadata": {},
   "source": [
    "Define a function that simulates throwing two dice a given number of times."
   ]
  },
  {
   "cell_type": "code",
   "execution_count": 32,
   "metadata": {
    "collapsed": false
   },
   "outputs": [],
   "source": [
    "def dice(d, n, y):\n",
    "    \"\"\"Simulates throwing two d-sided dice n times. Returns the proportion of times the dice sum to y.\"\"\"\n",
    "    \n",
    "    # counter for the number of times the sum of the rolls equals y\n",
    "    success = 0\n",
    "    \n",
    "    # roll the dice n times\n",
    "    for roll in range(n):\n",
    "        # roll die 1\n",
    "        d1 = random.randint(1, d)\n",
    "        # roll die 2\n",
    "        d2 = random.randint(1, d)\n",
    "        # test to see if the sum of the two dice is y\n",
    "        if d1+d2 == y:\n",
    "            # if so, add 1 to success\n",
    "            success += 1\n",
    "    \n",
    "    #return the proportion of successes\n",
    "    return success/n"
   ]
  },
  {
   "cell_type": "markdown",
   "metadata": {},
   "source": [
    "Now, run the function several times and compare the proportion of rolls that sum to 12."
   ]
  },
  {
   "cell_type": "code",
   "execution_count": 33,
   "metadata": {
    "collapsed": false
   },
   "outputs": [
    {
     "name": "stdout",
     "output_type": "stream",
     "text": [
      "0.04\n",
      "0.04\n",
      "0.05\n",
      "0.03\n",
      "0.02\n",
      "0.0\n",
      "0.03\n",
      "0.05\n",
      "0.04\n",
      "0.07\n",
      "\n",
      "0.04\n",
      "0.04\n",
      "0.05\n",
      "0.03\n",
      "0.02\n",
      "0.0\n",
      "0.03\n",
      "0.05\n",
      "0.04\n",
      "0.07\n",
      "\n"
     ]
    }
   ],
   "source": [
    "# we'll be comparing the results of two different sets of runs\n",
    "for i in range(2):\n",
    "    # first set the random seed to 42\n",
    "    random.seed(42)\n",
    "    # then call the function I just created 10 times in a row with the same parameters\n",
    "    for i in range(10):\n",
    "        # roll 2 6-sided dice 100 times, and print out the proportion of those rolls that sums to 12\n",
    "        print(dice(6, 100, 12))\n",
    "    # print out an extra line to distinguish between the two runs\n",
    "    print()"
   ]
  },
  {
   "cell_type": "markdown",
   "metadata": {},
   "source": [
    "First, notice that in each run one value, .04, appeared 3 times, and two values, .03 and .05, appeared two times each. This means that in multiple runs, the simulated dice summed to 12 the same number of times. However, within each run, there was hardly a consensus.\n",
    "\n",
    "Between runs, we got the exact same values in the exact same order. This is very unlikely to have happened by chance, as the amount of variation within each run suggests. Instead, this occured because the random seed was set to 42 at the beginning of each run.\n",
    "Controlling the random seed is useful when testing and debugging machine learning algorithms because using the same random seed across multiple runs holds all random variables constant. You can manipulate parameters to see how they effect the results without a risk of differences being just due to random chance.\n",
    "\n",
    "## 6. Vector arithmetic. \n",
    "\n",
    "Define a function that that generates two 3 X 1 vectors with random entries and returns them, their sum, elementwise product, and dot product."
   ]
  },
  {
   "cell_type": "code",
   "execution_count": 34,
   "metadata": {
    "collapsed": false
   },
   "outputs": [],
   "source": [
    "def vecfunc():\n",
    "    \"\"\"Generates two 3X1 vectors with random entries. Returns them, their sum, elementwise product, and dot product.\"\"\"\n",
    "    \n",
    "    # create two 3X1 vectors with random entries between 0 and 1\n",
    "    a = np.random.rand(3, 1)\n",
    "    b = np.random.rand(3, 1)\n",
    "    \n",
    "    # calculate the vectors' sum\n",
    "    vsum = np.add(a, b)\n",
    "    # their elementwise product\n",
    "    eprod = np.multiply(a, b)\n",
    "    # and their dot product (but first, one vector has to be transposed)\n",
    "    at = np.transpose(a)\n",
    "    dprod = np.dot(at, b)\n",
    "    \n",
    "    # return a list containing all of them\n",
    "    return [a, b, vsum, eprod, dprod]"
   ]
  },
  {
   "cell_type": "markdown",
   "metadata": {},
   "source": [
    "Call the function and display the results."
   ]
  },
  {
   "cell_type": "code",
   "execution_count": 35,
   "metadata": {
    "collapsed": false,
    "scrolled": true
   },
   "outputs": [
    {
     "name": "stdout",
     "output_type": "stream",
     "text": [
      "vector 1: [[ 0.9444966 ]\n",
      " [ 0.46409817]\n",
      " [ 0.19279503]]\n",
      "vector 2: [[ 0.58189488]\n",
      " [ 0.62008421]\n",
      " [ 0.68422402]]\n",
      "their sum: [[ 1.52639148]\n",
      " [ 1.08418238]\n",
      " [ 0.87701905]]\n",
      "their elementwise product: [[ 0.54959773]\n",
      " [ 0.28777995]\n",
      " [ 0.13191499]]\n",
      "their dot product: [[ 0.96929267]]\n"
     ]
    }
   ],
   "source": [
    "# set the random seed so vecfunc doesn't return different values each time this is run\n",
    "np.random.seed(37)\n",
    "\n",
    "# call vecfunc and get the results\n",
    "results = vecfunc()\n",
    "\n",
    "# now to print them all out\n",
    "print(\"vector 1: \" + str(results[0]))\n",
    "print(\"vector 2: \" + str(results[1]))\n",
    "print(\"their sum: \" + str(results[2]))\n",
    "print(\"their elementwise product: \" + str(results[3]))\n",
    "print(\"their dot product: \" + str(results[4]))"
   ]
  },
  {
   "cell_type": "markdown",
   "metadata": {},
   "source": [
    "In formatted mathematical notation, that is:\n",
    "\n",
    "$ a = \\begin{bmatrix} 0.9444966 \\\\\n",
    "0.46409817 \\\\\n",
    "0.19279503 \\end{bmatrix} $\n",
    "\n",
    "$ b = \\begin{bmatrix} 0.58189488 \\\\\n",
    "0.62008421 \\\\\n",
    "0.68422402 \\end{bmatrix} $\n",
    "\n",
    "$ a + b = \\begin{bmatrix} 1.52639148 \\\\\n",
    "1.08418238 \\\\\n",
    "0.87701905 \\end{bmatrix} $\n",
    "\n",
    "$ a \\circ b = \\begin{bmatrix} 0.54959773 \\\\\n",
    "0.28777995 \\\\\n",
    "0.13191499 \\end{bmatrix} $\n",
    "\n",
    "$ a \\cdot b = 0.96929267 $"
   ]
  },
  {
   "cell_type": "markdown",
   "metadata": {},
   "source": [
    "## 7. Matrix arithmetic.\n",
    "\n",
    "Define a function that generates two 3X1 vectors and a 3X3 matrix with random entries. It returns them and the result of a series of matrix operations."
   ]
  },
  {
   "cell_type": "code",
   "execution_count": 36,
   "metadata": {
    "collapsed": false
   },
   "outputs": [],
   "source": [
    "def matfunc():\n",
    "    \"\"\"Generates two 3X1 vectors and a 3X3 matrix with random entries.\n",
    "    Returns them, the dot product of the first vector transposed and the matrix,\n",
    "    the dot product of that with the second vector, the inverse of the matrix,\n",
    "    and the inverse of the dot product of the matrix transposed and the original matrix.\"\"\"\n",
    "    \n",
    "    # create two 3X1 vectors with random entries between 0 and 1\n",
    "    a = np.random.rand(3, 1)\n",
    "    b = np.random.rand(3, 1)\n",
    "    # and a 3X3 matrix\n",
    "    X = np.random.rand(3, 3)\n",
    "    \n",
    "    # transpose the first vector\n",
    "    at = np.transpose(a)\n",
    "    # calculate the dot product of the first vector transposed and the matrix\n",
    "    dotatX = np.dot(at, X)\n",
    "    # now calculate the dot product of that and the second vector\n",
    "    dotatXb = np.dot(dotatX, b)\n",
    "    \n",
    "    # calculate the inverse of the matrix\n",
    "    invX = np.linalg.inv(X)\n",
    "    # transpose the matrix\n",
    "    Xt = np.transpose(X)\n",
    "    # calculate the inverse of the dot product of the transposed matrix with the original\n",
    "    invdotX = np.linalg.inv(np.dot(Xt, X))\n",
    "    \n",
    "    # return a list containing the results of the operations performed\n",
    "    return [a, b, X, dotatX, dotatXb, invX, invdotX]"
   ]
  },
  {
   "cell_type": "markdown",
   "metadata": {},
   "source": [
    "Call the function above and display the results."
   ]
  },
  {
   "cell_type": "code",
   "execution_count": 37,
   "metadata": {
    "collapsed": false,
    "scrolled": true
   },
   "outputs": [
    {
     "name": "stdout",
     "output_type": "stream",
     "text": [
      "vector 1: [[ 0.9444966 ]\n",
      " [ 0.46409817]\n",
      " [ 0.19279503]]\n",
      "vector 2: [[ 0.58189488]\n",
      " [ 0.62008421]\n",
      " [ 0.68422402]]\n",
      "matrix: [[ 0.10343756  0.74547577  0.28197907]\n",
      " [ 0.75342459  0.79270563  0.6274006 ]\n",
      " [ 0.44348884  0.96346535  0.89706655]]\n",
      "the dot product of vector 1 transposed and the matrix: [[ 0.53286184  1.25774389  0.73045372]]\n",
      "the dot product of vector 1 transposed, the matrix, and vector 2: [[ 1.58977068]]\n",
      "the inverse of the matrix: [[-0.59293845  2.20793919 -1.35783251]\n",
      " [ 2.21106718  0.17941021 -0.8204929 ]\n",
      " [-2.08159029 -1.28424354  2.66724921]]\n",
      "the inverse of the dot product of the matrix transposed and the original: [[  7.07028062   0.19919203  -5.22295441]\n",
      " [  0.19919203   5.59421469  -7.02140143]\n",
      " [ -5.22295441  -7.02140143  13.09651795]]\n"
     ]
    }
   ],
   "source": [
    "# set the random seed so matfunc doesn't return different values each time this is run\n",
    "np.random.seed(37)\n",
    "\n",
    "# call matfunc and get the results\n",
    "results = matfunc()\n",
    "\n",
    "# now to print them all out\n",
    "print(\"vector 1: \" + str(results[0]))\n",
    "print(\"vector 2: \" + str(results[1]))\n",
    "print(\"matrix: \" + str(results[2]))\n",
    "print(\"the dot product of vector 1 transposed and the matrix: \" + str(results[3]))\n",
    "print(\"the dot product of vector 1 transposed, the matrix, and vector 2: \" + str(results[4]))\n",
    "print(\"the inverse of the matrix: \" + str(results[5]))\n",
    "print(\"the inverse of the dot product of the matrix transposed and the original: \" + str(results[6]))"
   ]
  },
  {
   "cell_type": "markdown",
   "metadata": {},
   "source": [
    "In formatted mathematical notation, that is:\n",
    "\n",
    "$ a = \\begin{bmatrix} 0.9444966 \\\\\n",
    "0.46409817 \\\\\n",
    "0.19279503 \\end{bmatrix}$\n",
    "\n",
    "$ b = \\begin{bmatrix} 0.58189488 \\\\\n",
    "0.62008421 \\\\\n",
    "0.68422402 \\end{bmatrix} $\n",
    "\n",
    "$ X = \\begin{bmatrix} 0.10343756 & 0.74547577 & 0.28197907 \\\\\n",
    "0.75342459 & 0.79270563 & 0.6274006 \\\\\n",
    "0.44348884 & 0.96346535 & 0.89706655 \\end{bmatrix}$\n",
    "\n",
    "$ a^{\\top} \\cdot X = \\begin{bmatrix} 0.53286184 & 1.25774389 & 0.73045372 \\end{bmatrix} $\n",
    "\n",
    "$ a^{\\top} \\cdot X \\cdot b = 1.58977068 $\n",
    "\n",
    "$ X^{-1} = \\begin{bmatrix} -0.59293845 & 2.20793919 & -1.35783251 \\\\\n",
    "2.21106718 & 0.17941021 & -0.8204929 \\\\\n",
    "-2.08159029 & -1.28424354 & 2.66724921 \\end{bmatrix}$\n",
    "\n",
    "$(X^{\\top} \\cdot X)^{-1} = \\begin{bmatrix} 7.07028062 & 0.19919203 & -5.22295441 \\\\\n",
    "0.19919203 & 5.59421469 & -7.02140143 \\\\\n",
    "-5.22295441 & -7.02140143 & 13.09651795 \\end{bmatrix}$\n",
    "\n",
    "\n",
    "Verify that matrix multiplication worked."
   ]
  },
  {
   "cell_type": "code",
   "execution_count": 38,
   "metadata": {
    "collapsed": false
   },
   "outputs": [
    {
     "name": "stdout",
     "output_type": "stream",
     "text": [
      "[ 0.53286184  1.25774389  0.73045372]\n"
     ]
    }
   ],
   "source": [
    "# to simplify things, I'll call the randomly generated matrix from above mat, and the first vector vec1\n",
    "mat = results[2]\n",
    "vec1 = results[0]\n",
    "\n",
    "# create an empty vector which will hold the results of the dot multiplication\n",
    "dot = np.zeros(3)\n",
    "# each column of the matrix will contribute to the corresponding column of the product vector\n",
    "for col in range(3):\n",
    "    # multiply each item in the column with the corresponding item in the vector\n",
    "    for item in range(3):\n",
    "        # and add it to the correct column of the product vector\n",
    "        dot[col] += mat[item, col]*vec1[item]\n",
    "\n",
    "# the resulting vector should be the same as the product of the matrix and vector 1 transposed above\n",
    "print(dot)"
   ]
  },
  {
   "cell_type": "markdown",
   "metadata": {
    "collapsed": false
   },
   "source": [
    "## 8. Linear Algebra Warmup.\n",
    "\n",
    "### a) Show that $ w^{\\top} \\cdot X^{\\top} \\cdot X \\cdot w = w_0^2 \\sum_{n=1}^N x_{n1}^2 + 2w_0w_1 \\sum_{n=1}^N x_{n1}x_{n2} + w_1^2 \\sum_{n=1}^N x_{n2}^2 $\n",
    "\n",
    "Given: $ w = \\begin{bmatrix} w_0 \\\\ w_1 \\end{bmatrix},  X = \\begin{bmatrix} x_{11} & x_{12} \\\\ x_{21} & x_{22} \\\\ ... & ... \\\\ x_{N1} & x_{N2} \\end{bmatrix} $\n",
    "\n",
    "$ X^{\\top} \\cdot X = \\begin{bmatrix} x_{11} & x_{21} & ... & x_{N1} \\\\ x_{12} & x_{22} & ... & x_{N2} \\end{bmatrix} \\cdot \\begin{bmatrix} x_{11} & x_{12} \\\\ x_{21} & x_{22} \\\\ ... & ... \\\\ x_{N1} & x_{N2} \\end{bmatrix} = \\begin{bmatrix} \\sum_{n=1}^N x_{n1}^2 & \\sum_{n=1}^N x_{n1}x_{n2} \\\\ \\sum_{n=1}^N x_{n1}x_{n2} & \\sum_{n=1}^N x_{n2}^2 \\end{bmatrix} $\n",
    "\n",
    "Therefore $ w^{\\top} \\cdot X^{\\top} \\cdot X \\cdot w = \\begin{bmatrix} w_0 & w_1 \\end{bmatrix} \\cdot \\begin{bmatrix} \\sum_{n=1}^N x_{n1}^2 & \\sum_{n=1}^N x_{n1}x_{n2} \\\\ \\sum_{n=1}^N x_{n1}x_{n2} & \\sum_{n=1}^N x_{n2}^2 \\end{bmatrix} \\cdot \\begin{bmatrix} w_0 \\\\ w_1 \\end{bmatrix}\n",
    " = \\begin{bmatrix} w_0 \\sum_{n=1}^N x_{n1}^2 + w_1 \\sum_{n=1}^N x_{n1}x_{n2} & w_0 \\sum_{n=1}^N x_{n1}x_{n2} + w_1 \\sum_{n=1}^N x_{n2}^2 \\end{bmatrix} \\cdot \\begin{bmatrix} w_0 \\\\ w_1 \\end{bmatrix} \\\\\n",
    " = w_0^2 \\sum_{n=1}^N x_{n1}^2 + 2w_0w_1 \\sum_{n=1}^N x_{n1}x_{n2} + w_1^2 \\sum_{n=1}^N x_{n2}^2 $\n",
    " \n",
    " as we intended to show."
   ]
  },
  {
   "cell_type": "markdown",
   "metadata": {
    "collapsed": true
   },
   "source": [
    "### b) Show that $ (X \\cdot w)^{\\top} = w^{\\top} \\cdot X^{\\top} $ Given the same definitions of X and w as above.\n",
    "\n",
    "$ (X \\cdot w)^{\\top} = \\Bigg( \\begin{bmatrix} x_{11} & x_{12} \\\\ x_{21} & x_{22} \\\\ ... & ... \\\\ x_{N1} & x_{N2} \\end{bmatrix} \\cdot \\begin{bmatrix} w_0 \\\\ w_1 \\end{bmatrix} \\Bigg)^{\\top}\n",
    "= \\Bigg( \\begin{bmatrix} x_{11}w_0 + x_{12}w_1 \\\\ x_{21}w_0 + x_{22}w_1 \\\\ ... \\\\ x_{N1}w_0 + x_{N2}w_1 \\end{bmatrix} \\Bigg)^{\\top} \n",
    "= \\begin{bmatrix}  x_{11}w_0 + x_{12}w_1 & x_{21}w_0 + x_{22}w_1 & ... & x_{N1}w_0 + x_{N2}w_1 \\end{bmatrix} $\n",
    "\n",
    "$ w^{\\top} \\cdot X^{\\top} = \\begin{bmatrix} w_0 & w_1 \\end{bmatrix} \\cdot \\begin{bmatrix} x_{11} & x_{21} & ... & x_{N1} \\\\ x_{12} & x_{22} & ... & x_{N2} \\end{bmatrix}\n",
    "= \\begin{bmatrix}  x_{11}w_0 + x_{12}w_1 & x_{21}w_0 + x_{22}w_1 & ... & x_{N1}w_0 + x_{N2}w_1 \\end{bmatrix} $\n",
    "\n",
    "as we intended to show."
   ]
  },
  {
   "cell_type": "code",
   "execution_count": null,
   "metadata": {
    "collapsed": true
   },
   "outputs": [],
   "source": []
  }
 ],
 "metadata": {
  "anaconda-cloud": {},
  "kernelspec": {
   "display_name": "Python [Root]",
   "language": "python",
   "name": "Python [Root]"
  },
  "language_info": {
   "codemirror_mode": {
    "name": "ipython",
    "version": 3
   },
   "file_extension": ".py",
   "mimetype": "text/x-python",
   "name": "python",
   "nbconvert_exporter": "python",
   "pygments_lexer": "ipython3",
   "version": "3.5.2"
  }
 },
 "nbformat": 4,
 "nbformat_minor": 0
}
