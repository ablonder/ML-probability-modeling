{
 "cells": [
  {
   "cell_type": "markdown",
   "metadata": {},
   "source": [
    "# 1. (Warmup) Given the following distribution of discrete random variable Y:\n",
    "$$ y \\hspace{1 cm} P(y) \\\\ 0 \\hspace{1 cm} 0.2 \\\\ 1 \\hspace{1 cm} 0.4 \\\\ 2 \\hspace{1 cm} 0.2 \\\\ 3 \\hspace{1 cm} 0.1 \\\\ 4 \\hspace{1 cm} 0.1 $$\n",
    "\n",
    "## a) Calculate the probability that the value of Y is greater than 1 and no greater than 3.\n",
    "$$ P(1 < Y \\leq 3) = P(Y = 2) + P(Y = 3) = 0.2 + 0.1 = 0.3 $$\n",
    "\n",
    "## b) Calculate the expected value of Y.\n",
    "$$ \\mathbb{E}[Y] = \\sum_y yp(y) = 0*0.2 + 1*0.4 + 2*0.2 + 3*0.1 + 4*0.1 = 1.5 $$\n",
    "\n",
    "## c) Calculate the variance in Y.\n",
    "$$ \\mathbb{V}[Y] = \\mathbb{E}[(y - \\mathbb{E}[Y])^2] $$\n",
    "\n",
    "$$ = \\sum_y (y - 1.5)^2p(y) = (0 - 1.5)^2*0.2 + (1 - 1.5)^2*0.4 + (2 - 1.5)^2*0.2 + (3 - 1.5)^2*0.1 + (4 - 1.5)^2*0.1 = 1.45 $$\n",
    "\n",
    "## d) Calculate the expected value of W = 2Y + 3.\n",
    "$$ \\mathbb{E}[W] = \\sum_y W(y)p(y) = (2*0 + 3)*0.2 + (2*1 + 3)*0.4 + (2*2 + 3)*0.2 + (2*3 + 3)*0.1 + (2*4 + 3)*0.1 = 6 $$\n",
    "\n",
    "## f) Calculate the variance in W.\n",
    "$$ \\mathbb{V}[W] = \\mathbb{E}[(W - \\mathbb{E}[W])^2] = \\sum_y (W(y) - 6)^2p(y) $$\n",
    "$$ = ((2*0 + 3)-6)^2*0.2 + ((2*1 + 3)-6)^2*0.4 + ((2*2 + 3)-6)^2*0.2 + ((2*3 + 3)-6)^2*0.1 + ((2*4 + 3)^2)*0.1 = 15.4 $$\n",
    "\n",
    "\n",
    "# 2. (Warmup) Given the following joint distribution of discrete random variables X and Y:\n",
    "$$ \\begin{matrix} x & & & y & & & P(x) \\\\ & 1 & 2 & 3 & 4 & 5 & \\\\ 1 & 0.02 & 0.04 & 0.06 & 0.08 & 0.05 & 0.25 \\\\ 2 & 0.08 & 0.02 & 0.10 & 0.02 & 0.03 & 0.25 \\\\ 3 & 0.05 & 0.05 & 0.03 & 0.02 & 0.10 & 0.25 \\\\ 4 & 0.10 & 0.04 & 0.05 & 0.03 & 0.03 & 0.25 \\\\ P(y) & 0.25 & 0.15 & 0.24 & 0.15 & 0.21 & 1 \\end{matrix} $$\n",
    "\n",
    "## a) Find the marginal distribution of X.\n",
    "$$ P(X = x) = \\sum_y P(x, y) $$ (See chart.)\n",
    "\n",
    "## b) Find the marginal distribution of Y.\n",
    "$$ P(Y = y) = \\sum_x P(x, y) $$ (See chart.)\n",
    "\n",
    "## c) Calculate the conditional probability $ P(X = 3|Y = 1) $\n",
    "$$ P(X = 3|Y = 1) = \\frac{P(X = 3, Y = 1)}{P(Y = 1)} = \\frac{0.05}{0.25} = .2 $$\n",
    "\n",
    "\n",
    "# 3. Poisson distribution.\n",
    "The number of customers who buy fish tacos at a taqueria in a given hour can be modeled by a Poisson distribution $$ P(k) = \\frac{e^{-\\lambda}\\lambda^k}{k!} $$ Supposing $ \\lambda = 2.7 $, what is the probability that in one hour:\n",
    "\n",
    "## a) exactly one customer buys fish tacos?\n",
    "$$ P(1) = \\frac{e^{-2.7}2.7^1}{1!} \\approx 0.18 $$\n",
    "\n",
    "## b) more than 3 customers buy fish tacos?\n",
    "$$ P(K > 3) = 1 - F(3) = 1 - \\sum_{k=0}^3 p(K = k) = 1 - \\bigg( \\frac{e^{-2.7}2.7^0}{0!} + \\frac{e^{-2.7}2.7^1}{1!} + \\frac{e^{-2.7}2.7^2}{2!} + \\frac{e^{-2.7}2.7^3}{3!} \\bigg) \\approx .29 $$\n",
    "\n",
    "## c) between 1 and 4 (inclusive) customers buy fish tacos?\n",
    "$$ P(1 \\leq K \\leq 4) = F(4) - F(1) = \\sum_{k=0}^4 p(K = k) - \\sum_{k=0}^1 p(K = k) $$\n",
    "\n",
    "$$ = \\frac{e^{-2.7}2.7^0}{0!} + \\frac{e^{-2.7}2.7^1}{1!} + \\frac{e^{-2.7}2.7^2}{2!} + \\frac{e^{-2.7}2.7^3}{3!} + \\frac{e^{-2.7}2.7^4}{4!} - \\bigg( \\frac{e^{-2.7}2.7^0}{0!} + \\frac{e^{-2.7}2.7^1}{1!} \\bigg) \\approx .61 $$\n",
    "\n",
    "\n",
    "# 3. Game Show.\n",
    "Participants can spin a wheel split into four equally sized spaces. If the player lands on one of three spaces, they earn the dollar amount indicated, but if they land on the fourth \"BUST\" space they must stop playing and loose all of the money they won so far.\n",
    "\n",
    "## a) Suppose a contestant plays until they land on the BUST space.\n",
    "### What is the valid range for W, the number of possible successful spins until going bust?\n",
    "W must be a natural number (ie. a whole number/integer greater than 0). It can technically approach infinity, but higher values are increasingly unlikely.\n",
    "### Find a formula that gives P(W = w) for any w and provide the domain where it applys.\n",
    "$$ P(W = w) = .75^w \\hspace{.5 cm} \\forall w \\in \\mathbb{N} $$\n",
    "\n",
    "## b) If the winning spaces contain 100, 500, and 5000 dollars respectively, what is the expected amount of money won or lost on the first spin.\n",
    "$$ \\mathbb{E}[X_1] = \\sum_x xp(x) = 100*.25 + 500*.25 + 5000*.25 + 0*.25 = 1400 $$\n",
    "\n",
    "## c) Find the expected amount of money won or lost on the next spin given the amount won so far, as a function of the amount won so far.\n",
    "$$ \\mathbb{E}[X_{n+1} | S_n] = 100*.25 + 500*.25 + 5000*.25 - S_n*.25 = 1400 - S_n*.25 $$\n",
    "### How much money does a contestant have to have won so far for the expected gain from spinning again to be negative?\n",
    "$$ 0 > \\mathbb{E}[X_{n+1} | S_n] = 1400 - S_n*.25 \\hspace{.5 cm} => \\hspace{.5 cm} S_n*.25 > 1400 \\hspace{.5 cm} => \\hspace{.5 cm} S_n > 5600 $$\n",
    "\n",
    "\n",
    "# 5. Triangular density."
   ]
  },
  {
   "cell_type": "code",
   "execution_count": null,
   "metadata": {
    "collapsed": true
   },
   "outputs": [],
   "source": []
  }
 ],
 "metadata": {
  "kernelspec": {
   "display_name": "Python [Root]",
   "language": "python",
   "name": "Python [Root]"
  },
  "language_info": {
   "codemirror_mode": {
    "name": "ipython",
    "version": 3
   },
   "file_extension": ".py",
   "mimetype": "text/x-python",
   "name": "python",
   "nbconvert_exporter": "python",
   "pygments_lexer": "ipython3",
   "version": "3.5.2"
  }
 },
 "nbformat": 4,
 "nbformat_minor": 0
}
