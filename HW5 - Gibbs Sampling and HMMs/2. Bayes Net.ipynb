{
 "cells": [
  {
   "cell_type": "markdown",
   "metadata": {
    "deletable": true,
    "editable": true
   },
   "source": [
    "# a) Write down the factorization of the joint distribution that is implied by the graph.\n",
    "\n",
    "$$ p(x, d, e, t, l, b, a, s) = p(a)p(t|a)p(s)p(l|s)p(b|s)p(e|t, l, a, s)p(d|e, b, t, l, a, s)p(x|e, t, l, a, s) $$\n",
    "\n",
    "\n",
    "# b) Are s and a independent?\n",
    "\n",
    "Yes. They are only connected through their children, in fact neither node has any parents at all. This makes their relationship a \"head-to-head\" connection, which information cannot flow through. They have no influence on each other.\n",
    "\n",
    "\n",
    "# c) Are s and a conditionally indpendent given x?\n",
    "\n",
    "No. x is descended from both s and a. The relationship between s and a is a head-to-head connection, so information about their mutual descendent opens up the flow of information between them. Knowing the state of x implies that at least one of s or a must have caused it. If then information surfaces indicating that a is the culprit, that influences the probability of s by explaining it away, back to its original probability before the state of x had been discovered."
   ]
  }
 ],
 "metadata": {
  "kernelspec": {
   "display_name": "Python 3",
   "language": "python",
   "name": "python3"
  },
  "language_info": {
   "codemirror_mode": {
    "name": "ipython",
    "version": 3
   },
   "file_extension": ".py",
   "mimetype": "text/x-python",
   "name": "python",
   "nbconvert_exporter": "python",
   "pygments_lexer": "ipython3",
   "version": "3.5.2"
  }
 },
 "nbformat": 4,
 "nbformat_minor": 2
}
